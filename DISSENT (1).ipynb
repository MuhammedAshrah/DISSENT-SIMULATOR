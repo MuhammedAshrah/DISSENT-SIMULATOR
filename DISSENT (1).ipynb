{
  "nbformat": 4,
  "nbformat_minor": 0,
  "metadata": {
    "colab": {
      "provenance": []
    },
    "kernelspec": {
      "name": "python3",
      "display_name": "Python 3"
    },
    "language_info": {
      "name": "python"
    }
  },
  "cells": [
    {
      "cell_type": "markdown",
      "source": [
        "DISSENT : Decision-making In Social Systems via Emergent Network Theory\n"
      ],
      "metadata": {
        "id": "F5-tT8TGa4u2"
      }
    },
    {
      "cell_type": "code",
      "source": [
        "# STEP 1 :- Define voter groups -> This can be modified to include more diverse groups\n",
        "voter_groups = {\n",
        "    \"Young men without college degree\": {\n",
        "        \"weight\": 0.25,\n",
        "        \"turnout\": 0.35,\n",
        "        \"prefrences\": [0.9, 0.5, 0.7]\n",
        "    },\n",
        "    \"Young men with college degree\": {\n",
        "        \"weight\": 0.20,\n",
        "        \"turnout\": 0.45,\n",
        "        \"prefrences\": [0.9, 0.7, 0.7]\n",
        "    },\n",
        "    \"Young women\": {\n",
        "        \"weight\": 0.25,\n",
        "        \"turnout\": 0.55,\n",
        "        \"prefrences\": [0.9, 0.7, 0.8]\n",
        "    },\n",
        "    \"Asian youth\": {\n",
        "        \"weight\": 0.15,\n",
        "        \"turnout\": 0.5,\n",
        "        \"prefrences\": [0.9, 0.8, 0.7]\n",
        "    },\n",
        "    \"Black youth\": {\n",
        "        \"weight\": 0.15,\n",
        "        \"turnout\": 0.5,\n",
        "        \"prefrences\": [0.9, 0.2, 0.7]\n",
        "    }\n",
        "}\n"
      ],
      "metadata": {
        "id": "t-R64KF5ouAh"
      },
      "execution_count": null,
      "outputs": []
    },
    {
      "cell_type": "code",
      "source": [
        "# STEP 2 :- Define policy bundles (3-parameter: Economic, Climate, Healthcare)\n",
        "# A point to be noted is that the 3 parameters(or issues) is an assumption by me based on the Tufts Research. Read the documentation to know more.\n",
        "# You could choose different parameters and policy bundles based on target community\n",
        "\n",
        "policy_bundles = {\n",
        "    \"National Gun Ban\": [0.3, 0.2, 0.4],\n",
        "    \"Pro-Choice Constitutional Right\": [0.5, 0.2, 0.7],\n",
        "    \"Green New Deal\": [0.1, 0.9, 0.6],\n",
        "    \"Ban Gender-Affirming Care\": [0.2, 0.2, 0.1],\n",
        "    \"Universal Reproductive Health\": [0.3, 0.2, 0.9],\n",
        "    \"Religious Freedom Act\": [0.7, 0.2, 0.5]\n",
        "}"
      ],
      "metadata": {
        "id": "UVpJVmHWpGCO"
      },
      "execution_count": null,
      "outputs": []
    },
    {
      "cell_type": "code",
      "source": [
        "influence_matrix = [\n",
        "    [1.0, 0.1, 0.2, 0.1, 0.1],\n",
        "    [0.1, 1.0, 0.2, 0.2, 0.1],\n",
        "    [0.2, 0.2, 1.0, 0.2, 0.1],\n",
        "    [0.1, 0.2, 0.2, 1.0, 0.2],\n",
        "    [0.1, 0.1, 0.2, 0.2, 1.0]\n",
        "]\n",
        "\n",
        "# Applying  influence function\n",
        "def apply_influence(pref_list, influence_matrix, alpha=0.1):\n",
        "    influenced = []\n",
        "    for i in range(len(pref_list)):\n",
        "        new_pref = [0.0, 0.0, 0.0]\n",
        "        total_weight = 0\n",
        "        for j in range(len(pref_list)):\n",
        "            w = influence_matrix[i][j]\n",
        "            total_weight += w\n",
        "            for k in range(3):\n",
        "                new_pref[k] += w * pref_list[j][k]\n",
        "        avg_pref = [p / total_weight for p in new_pref]\n",
        "        mixed_pref = [\n",
        "            min(1, max(0, (1 - alpha) * pref_list[i][k] + alpha * avg_pref[k]))\n",
        "            for k in range(3)\n",
        "        ]\n",
        "        influenced.append(mixed_pref)\n",
        "    return influenced"
      ],
      "metadata": {
        "id": "x5Gttd7EpKVM"
      },
      "execution_count": null,
      "outputs": []
    },
    {
      "cell_type": "code",
      "source": [
        "def dot_product(list1,list2):\n",
        "  sum=0\n",
        "  for i in range(len(list1)):\n",
        "    sum+=list1[i]*list2[i]\n",
        "  return round(sum,2)"
      ],
      "metadata": {
        "id": "lqZ69JQ4vkm1"
      },
      "execution_count": null,
      "outputs": []
    },
    {
      "cell_type": "code",
      "source": [
        "import random\n",
        "random.seed(1)\n",
        "\n",
        "# Simulating\n",
        "winner_counts={}\n",
        "for k in policy_bundles:\n",
        "  winner_counts[k]=0\n",
        "\n",
        "for sim in range(100000):\n",
        "    l = []\n",
        "    pref = []\n",
        "    for i, j in voter_groups.items():\n",
        "        l.append(j[\"turnout\"])\n",
        "        pref.append(j[\"prefrences\"])\n",
        "\n",
        "    noisy_turnout = [min(1, max(0, i * random.normalvariate(1, 0.4))) for i in l]\n",
        "\n",
        "    noisy_pref = []\n",
        "    for i in pref:\n",
        "        l_pref1 = []\n",
        "        for j in i:\n",
        "            l_pref1.append(min(1, max(0, j * random.normalvariate(1, 0.4))))\n",
        "        noisy_pref.append(l_pref1)\n",
        "\n",
        "    # Applying emergent influence\n",
        "    noisy_pref = apply_influence(noisy_pref, influence_matrix, alpha=0.1)\n",
        "\n",
        "    # Scoring policies and finding the winner\n",
        "    dict3 = {}\n",
        "    for j, k in policy_bundles.items():\n",
        "        list1 = []\n",
        "        count = 0\n",
        "        for i in voter_groups.values():\n",
        "            list1.append(round(dot_product(noisy_pref[count], k) * i[\"weight\"] * noisy_turnout[count], 3))\n",
        "            count += 1\n",
        "        dict3[j] = list1\n",
        "\n",
        "\n",
        "    dict6 = {i: round(sum(j), 3) for i, j in dict3.items()}\n",
        "    winner = max(dict6, key=dict6.get)\n",
        "    winner_counts[winner] += 1\n",
        "\n",
        "# Le us print the final result\n",
        "print(\"\\nWinner counts after 100,000 simulations:\")\n",
        "for k, v in sorted(winner_counts.items(), key=lambda x: -x[1]):\n",
        "    print(f\"{k}: {v}\")\n"
      ],
      "metadata": {
        "id": "arIy4PtNoen6"
      },
      "execution_count": null,
      "outputs": []
    },
    {
      "cell_type": "code",
      "source": [
        "import random\n",
        "# Now let us change values of alpha to understand the effect of echo chambers\n",
        "\n",
        "\n",
        "alpha_values = [0.0, 0.1, 0.2, 0.3, 0.4, 0.5]\n",
        "SIMULATIONS = 100000\n",
        "\n",
        "random.seed(100)\n",
        "\n",
        "def run_simulation(alpha=0.0, noise=0.4, simulations=SIMULATIONS):\n",
        "    winner_counts = {}\n",
        "    for k in policy_bundles:\n",
        "      winner_counts[k]=0\n",
        "\n",
        "    for a in range(simulations):\n",
        "        l, pref = [], []\n",
        "        for j in voter_groups.values():\n",
        "            l.append(j[\"turnout\"])\n",
        "            pref.append(j[\"prefrences\"])\n",
        "\n",
        "        noisy_turnout = [min(1, max(0, i * random.normalvariate(1, noise))) for i in l]\n",
        "\n",
        "        noisy_pref = []\n",
        "        for i in pref:\n",
        "            l_pref1 = []\n",
        "            for j in i:\n",
        "                l_pref1.append(min(1, max(0, j * random.normalvariate(1, noise))))\n",
        "            noisy_pref.append(l_pref1)\n",
        "\n",
        "        # Here we take alpha > O because at alpha = 0 is the baseline condition which is when voter vote independently.\n",
        "        if alpha > 0:\n",
        "            noisy_pref = apply_influence(noisy_pref, influence_matrix, alpha=alpha)\n",
        "\n",
        "        dict3 = {}\n",
        "        for j, k in policy_bundles.items():\n",
        "            list1 = []\n",
        "            count = 0\n",
        "            for i in voter_groups.values():\n",
        "                score = dot_product(noisy_pref[count], k) * i[\"weight\"] * noisy_turnout[count]\n",
        "                list1.append(round(score, 3))\n",
        "                count += 1\n",
        "            dict3[j] = list1\n",
        "\n",
        "        dict6 = {i: round(sum(j), 3) for i, j in dict3.items()}\n",
        "        winner = max(dict6, key=dict6.get)\n",
        "        winner_counts[winner] += 1\n",
        "\n",
        "    return winner_counts\n",
        "\n",
        "# ENT Results\n",
        "ent_results = {}\n",
        "for alpha in alpha_values:\n",
        "    print(f\"Running ENT simulation with alpha={alpha}\")\n",
        "    ent_results[alpha] = run_simulation(alpha)\n",
        "\n",
        "for alpha, results in ent_results.items():\n",
        "    print(f\"\\nENT Alpha = {alpha:.1f}\")\n",
        "    for policy, count in results.items():\n",
        "        print(f\"  {policy}: {count}\")\n"
      ],
      "metadata": {
        "id": "qPiawGdZvBft"
      },
      "execution_count": null,
      "outputs": []
    }
  ]
}